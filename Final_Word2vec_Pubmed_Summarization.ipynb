{
  "nbformat": 4,
  "nbformat_minor": 0,
  "metadata": {
    "colab": {
      "provenance": [],
      "mount_file_id": "1IQBhFsxDhj8FAzEdrxH_89i80IwmBqGp",
      "authorship_tag": "ABX9TyO5jaPFQNsK4xavm9V/NNTZ"
    },
    "kernelspec": {
      "name": "python3",
      "display_name": "Python 3"
    },
    "language_info": {
      "name": "python"
    }
  },
  "cells": [
    {
      "cell_type": "markdown",
      "source": [
        "- 🛠️ **Install Required Libraries**:\n",
        "  - **`gensim`** For training the Word2Vec model, which generates word embeddings.\n",
        "  - **`nltk`** For text preprocessing, including tokenization and handling stopwords.\n",
        "  - **`bert-score`** For evaluating the similarity between generated and reference summaries.\n",
        "  - **`pandas`** For handling datasets (reading, processing, and storing).\n",
        "  - **`matplotlib`** For plotting and visualizing evaluation metrics.\n",
        "\n",
        "---"
      ],
      "metadata": {
        "id": "D2fn2RWWmgsz"
      }
    },
    {
      "cell_type": "code",
      "execution_count": 22,
      "metadata": {
        "colab": {
          "base_uri": "https://localhost:8080/"
        },
        "id": "tXsTN1TzUfVm",
        "outputId": "86aca9d3-a211-466a-8d90-d1c8c9e4873b"
      },
      "outputs": [
        {
          "output_type": "stream",
          "name": "stdout",
          "text": [
            "Requirement already satisfied: gensim in /usr/local/lib/python3.10/dist-packages (4.3.3)\n",
            "Requirement already satisfied: nltk in /usr/local/lib/python3.10/dist-packages (3.9.1)\n",
            "Requirement already satisfied: bert-score in /usr/local/lib/python3.10/dist-packages (0.3.13)\n",
            "Requirement already satisfied: pandas in /usr/local/lib/python3.10/dist-packages (2.2.2)\n",
            "Requirement already satisfied: matplotlib in /usr/local/lib/python3.10/dist-packages (3.8.0)\n",
            "Requirement already satisfied: numpy<2.0,>=1.18.5 in /usr/local/lib/python3.10/dist-packages (from gensim) (1.26.4)\n",
            "Requirement already satisfied: scipy<1.14.0,>=1.7.0 in /usr/local/lib/python3.10/dist-packages (from gensim) (1.13.1)\n",
            "Requirement already satisfied: smart-open>=1.8.1 in /usr/local/lib/python3.10/dist-packages (from gensim) (7.0.5)\n",
            "Requirement already satisfied: click in /usr/local/lib/python3.10/dist-packages (from nltk) (8.1.7)\n",
            "Requirement already satisfied: joblib in /usr/local/lib/python3.10/dist-packages (from nltk) (1.4.2)\n",
            "Requirement already satisfied: regex>=2021.8.3 in /usr/local/lib/python3.10/dist-packages (from nltk) (2024.9.11)\n",
            "Requirement already satisfied: tqdm in /usr/local/lib/python3.10/dist-packages (from nltk) (4.66.6)\n",
            "Requirement already satisfied: torch>=1.0.0 in /usr/local/lib/python3.10/dist-packages (from bert-score) (2.5.1+cu121)\n",
            "Requirement already satisfied: transformers>=3.0.0 in /usr/local/lib/python3.10/dist-packages (from bert-score) (4.46.2)\n",
            "Requirement already satisfied: requests in /usr/local/lib/python3.10/dist-packages (from bert-score) (2.32.3)\n",
            "Requirement already satisfied: packaging>=20.9 in /usr/local/lib/python3.10/dist-packages (from bert-score) (24.2)\n",
            "Requirement already satisfied: python-dateutil>=2.8.2 in /usr/local/lib/python3.10/dist-packages (from pandas) (2.8.2)\n",
            "Requirement already satisfied: pytz>=2020.1 in /usr/local/lib/python3.10/dist-packages (from pandas) (2024.2)\n",
            "Requirement already satisfied: tzdata>=2022.7 in /usr/local/lib/python3.10/dist-packages (from pandas) (2024.2)\n",
            "Requirement already satisfied: contourpy>=1.0.1 in /usr/local/lib/python3.10/dist-packages (from matplotlib) (1.3.1)\n",
            "Requirement already satisfied: cycler>=0.10 in /usr/local/lib/python3.10/dist-packages (from matplotlib) (0.12.1)\n",
            "Requirement already satisfied: fonttools>=4.22.0 in /usr/local/lib/python3.10/dist-packages (from matplotlib) (4.55.0)\n",
            "Requirement already satisfied: kiwisolver>=1.0.1 in /usr/local/lib/python3.10/dist-packages (from matplotlib) (1.4.7)\n",
            "Requirement already satisfied: pillow>=6.2.0 in /usr/local/lib/python3.10/dist-packages (from matplotlib) (11.0.0)\n",
            "Requirement already satisfied: pyparsing>=2.3.1 in /usr/local/lib/python3.10/dist-packages (from matplotlib) (3.2.0)\n",
            "Requirement already satisfied: six>=1.5 in /usr/local/lib/python3.10/dist-packages (from python-dateutil>=2.8.2->pandas) (1.16.0)\n",
            "Requirement already satisfied: wrapt in /usr/local/lib/python3.10/dist-packages (from smart-open>=1.8.1->gensim) (1.16.0)\n",
            "Requirement already satisfied: filelock in /usr/local/lib/python3.10/dist-packages (from torch>=1.0.0->bert-score) (3.16.1)\n",
            "Requirement already satisfied: typing-extensions>=4.8.0 in /usr/local/lib/python3.10/dist-packages (from torch>=1.0.0->bert-score) (4.12.2)\n",
            "Requirement already satisfied: networkx in /usr/local/lib/python3.10/dist-packages (from torch>=1.0.0->bert-score) (3.4.2)\n",
            "Requirement already satisfied: jinja2 in /usr/local/lib/python3.10/dist-packages (from torch>=1.0.0->bert-score) (3.1.4)\n",
            "Requirement already satisfied: fsspec in /usr/local/lib/python3.10/dist-packages (from torch>=1.0.0->bert-score) (2024.10.0)\n",
            "Requirement already satisfied: sympy==1.13.1 in /usr/local/lib/python3.10/dist-packages (from torch>=1.0.0->bert-score) (1.13.1)\n",
            "Requirement already satisfied: mpmath<1.4,>=1.1.0 in /usr/local/lib/python3.10/dist-packages (from sympy==1.13.1->torch>=1.0.0->bert-score) (1.3.0)\n",
            "Requirement already satisfied: huggingface-hub<1.0,>=0.23.2 in /usr/local/lib/python3.10/dist-packages (from transformers>=3.0.0->bert-score) (0.26.2)\n",
            "Requirement already satisfied: pyyaml>=5.1 in /usr/local/lib/python3.10/dist-packages (from transformers>=3.0.0->bert-score) (6.0.2)\n",
            "Requirement already satisfied: safetensors>=0.4.1 in /usr/local/lib/python3.10/dist-packages (from transformers>=3.0.0->bert-score) (0.4.5)\n",
            "Requirement already satisfied: tokenizers<0.21,>=0.20 in /usr/local/lib/python3.10/dist-packages (from transformers>=3.0.0->bert-score) (0.20.3)\n",
            "Requirement already satisfied: charset-normalizer<4,>=2 in /usr/local/lib/python3.10/dist-packages (from requests->bert-score) (3.4.0)\n",
            "Requirement already satisfied: idna<4,>=2.5 in /usr/local/lib/python3.10/dist-packages (from requests->bert-score) (3.10)\n",
            "Requirement already satisfied: urllib3<3,>=1.21.1 in /usr/local/lib/python3.10/dist-packages (from requests->bert-score) (2.2.3)\n",
            "Requirement already satisfied: certifi>=2017.4.17 in /usr/local/lib/python3.10/dist-packages (from requests->bert-score) (2024.8.30)\n",
            "Requirement already satisfied: MarkupSafe>=2.0 in /usr/local/lib/python3.10/dist-packages (from jinja2->torch>=1.0.0->bert-score) (3.0.2)\n"
          ]
        }
      ],
      "source": [
        "!pip install gensim nltk bert-score pandas matplotlib\n",
        "\n"
      ]
    },
    {
      "cell_type": "code",
      "source": [
        "import pandas as pd\n",
        "import numpy as np\n",
        "from gensim.models import Word2Vec\n",
        "from nltk.tokenize import sent_tokenize, word_tokenize\n",
        "from nltk.corpus import stopwords\n",
        "import matplotlib.pyplot as plt\n",
        "from bert_score import score\n",
        "import nltk\n",
        "import re\n",
        "import string\n"
      ],
      "metadata": {
        "id": "B87OPSAmU7H7"
      },
      "execution_count": 23,
      "outputs": []
    },
    {
      "cell_type": "markdown",
      "source": [
        "- 📥 **Download NLTK Resources**:\n",
        "  - **`punkt`** Provides sentence and word tokenizers.\n",
        "  - **`stopwords`** Offers a list of common words to exclude during preprocessing.\n",
        "\n",
        "---"
      ],
      "metadata": {
        "id": "GmG6vSfHmwgL"
      }
    },
    {
      "cell_type": "code",
      "source": [
        "\n",
        "import nltk\n",
        "\n",
        "# Download 'punkt_tab' package\n",
        "nltk.download('punkt_tab')\n",
        "nltk.download('stopwords')\n",
        "nltk.download('punkt')"
      ],
      "metadata": {
        "colab": {
          "base_uri": "https://localhost:8080/"
        },
        "id": "DixX-hcQU-Vg",
        "outputId": "39528ebb-6125-4cbf-baa6-d2932f514801"
      },
      "execution_count": 26,
      "outputs": [
        {
          "output_type": "stream",
          "name": "stderr",
          "text": [
            "[nltk_data] Downloading package punkt_tab to /root/nltk_data...\n",
            "[nltk_data]   Package punkt_tab is already up-to-date!\n",
            "[nltk_data] Downloading package stopwords to /root/nltk_data...\n",
            "[nltk_data]   Package stopwords is already up-to-date!\n",
            "[nltk_data] Downloading package punkt to /root/nltk_data...\n",
            "[nltk_data]   Package punkt is already up-to-date!\n"
          ]
        },
        {
          "output_type": "execute_result",
          "data": {
            "text/plain": [
              "True"
            ]
          },
          "metadata": {},
          "execution_count": 26
        }
      ]
    },
    {
      "cell_type": "markdown",
      "source": [
        "### **Preprocessing Functions**\n",
        "- 🧹 **Clean Text**:\n",
        "  - Removes unnecessary characters like punctuation.\n",
        "  - Converts text to lowercase to ensure uniformity.\n",
        "  - Filters out numbers and symbols to retain meaningful content.\n",
        "\n",
        "\n",
        "- 🛠️ **Prepare DataFrame**:\n",
        "  - Adds two columns:\n",
        "    - **`sentences`**: Stores tokenized sentences.\n",
        "    - **`tokenized_sentences`**: Stores tokenized and cleaned words for each sentence.\n",
        "\n",
        "\n",
        "---"
      ],
      "metadata": {
        "id": "mejprBscm8S7"
      }
    },
    {
      "cell_type": "code",
      "source": [
        "# Preprocess text to remove punctuation, lowercase, and tokenize\n",
        "def preprocess_text(text):\n",
        "    \"\"\"\n",
        "    Cleans and tokenizes text.\n",
        "    Args:\n",
        "        text (str): Input text to process.\n",
        "    Returns:\n",
        "        list: A list of clean tokens.\n",
        "    \"\"\"\n",
        "    text = re.sub(f\"[{re.escape(string.punctuation)}]\", \"\", text.lower())  # Remove punctuation, lowercase\n",
        "    tokens = word_tokenize(text)\n",
        "    tokens = [word for word in tokens if word.isalpha()]  # Keep only alphabetic tokens\n",
        "    return tokens\n",
        "\n",
        "# Preprocess a DataFrame column and tokenize sentences\n",
        "def preprocess_dataframe(df, text_column):\n",
        "    \"\"\"\n",
        "    Tokenizes text into sentences and words.\n",
        "    Args:\n",
        "        df (DataFrame): Input DataFrame.\n",
        "        text_column (str): Column name containing text data.\n",
        "    Returns:\n",
        "        DataFrame: The modified DataFrame with tokenized sentences.\n",
        "    \"\"\"\n",
        "    df['sentences'] = df[text_column].apply(sent_tokenize)  # Sentence tokenization\n",
        "    df['tokenized_sentences'] = df['sentences'].apply(lambda x: [preprocess_text(sent) for sent in x])\n",
        "    return df\n"
      ],
      "metadata": {
        "id": "HxHne7p1ZqPs"
      },
      "execution_count": 27,
      "outputs": []
    },
    {
      "cell_type": "markdown",
      "source": [
        "### **Load and Preprocess Datasets**\n",
        "\n",
        "- 📂 **Load and Process Data**:\n",
        "  - Reads CSV files containing articles and their reference summaries.\n",
        "  - Preprocesses the `article` column for both datasets to tokenize and clean the text.\n",
        "\n",
        "---"
      ],
      "metadata": {
        "id": "fwralX67nPN0"
      }
    },
    {
      "cell_type": "code",
      "source": [
        "# Load your dataset\n",
        "test_file_path = 'drive/MyDrive/NLP/project/data/test.csv'\n",
        "validation_file_path = 'drive/MyDrive/NLP/project/data/validation.csv'\n",
        "\n",
        "test_data = pd.read_csv(test_file_path)\n",
        "validation_data = pd.read_csv(validation_file_path)\n",
        "\n",
        "# Preprocess the dataset\n",
        "test_data = preprocess_dataframe(test_data, 'article')  # Assume 'article' contains text data\n",
        "validation_data = preprocess_dataframe(validation_data, 'article')\n",
        "\n",
        "# Preview the data\n",
        "print(test_data.head())\n"
      ],
      "metadata": {
        "colab": {
          "base_uri": "https://localhost:8080/"
        },
        "id": "XoYZc4rsVcKs",
        "outputId": "cafed520-b5d2-42ff-f2c4-64f0e93064fb"
      },
      "execution_count": 28,
      "outputs": [
        {
          "output_type": "stream",
          "name": "stdout",
          "text": [
            "                                             article  \\\n",
            "0  anxiety affects quality of life in those livin...   \n",
            "1  small non - coding rnas are transcribed into m...   \n",
            "2  ohss is a serious complication of ovulation in...   \n",
            "3  congenital adrenal hyperplasia ( cah ) refers ...   \n",
            "4  type 1 diabetes ( t1d ) results from the destr...   \n",
            "\n",
            "                                            abstract  \\\n",
            "0  research on the implications of anxiety in par...   \n",
            "1  small non - coding rnas include sirna , mirna ...   \n",
            "2  objective : to evaluate the efficacy and safet...   \n",
            "3  congenital adrenal hyperplasia is a group of a...   \n",
            "4  objective(s):pentoxifylline is an immunomodula...   \n",
            "\n",
            "                                           sentences  \\\n",
            "0  [anxiety affects quality of life in those livi...   \n",
            "1  [small non - coding rnas are transcribed into ...   \n",
            "2  [ohss is a serious complication of ovulation i...   \n",
            "3  [congenital adrenal hyperplasia ( cah ) refers...   \n",
            "4  [type 1 diabetes ( t1d ) results from the dest...   \n",
            "\n",
            "                                 tokenized_sentences  \n",
            "0  [[anxiety, affects, quality, of, life, in, tho...  \n",
            "1  [[small, non, coding, rnas, are, transcribed, ...  \n",
            "2  [[ohss, is, a, serious, complication, of, ovul...  \n",
            "3  [[congenital, adrenal, hyperplasia, cah, refer...  \n",
            "4  [[type, diabetes, results, from, the, destruct...  \n"
          ]
        }
      ]
    },
    {
      "cell_type": "code",
      "source": [
        "print(all_sentences[:10])  # Preview the first 10 entries\n"
      ],
      "metadata": {
        "colab": {
          "base_uri": "https://localhost:8080/"
        },
        "id": "_WKhMjQEbzRZ",
        "outputId": "9576981e-fff1-4787-a8b1-f22756c8e6bb"
      },
      "execution_count": 30,
      "outputs": [
        {
          "output_type": "stream",
          "name": "stdout",
          "text": [
            "[['anxiety', 'affects', 'quality', 'of', 'life', 'in', 'those', 'living', 'with', 'parkinson', 's', 'disease', 'pd', 'more', 'so', 'than', 'overall', 'cognitive', 'status', 'motor', 'deficits', 'apathy', 'and', 'depression'], ['although', 'anxiety', 'and', 'depression', 'are', 'often', 'related', 'and', 'coexist', 'in', 'pd', 'patients', 'recent', 'research', 'suggests', 'that', 'anxiety', 'rather', 'than', 'depression', 'is', 'the', 'most', 'prominent', 'and', 'prevalent', 'mood', 'disorder', 'in', 'pd'], ['yet', 'our', 'current', 'understanding', 'of', 'anxiety', 'and', 'its', 'impact', 'on', 'cognition', 'in', 'pd', 'as', 'well', 'as', 'its', 'neural', 'basis', 'and', 'best', 'treatment', 'practices', 'remains', 'meager', 'and', 'lags', 'far', 'behind', 'that', 'of', 'depression'], ['overall', 'neuropsychiatric', 'symptoms', 'in', 'pd', 'have', 'been', 'shown', 'to', 'be', 'negatively', 'associated', 'with', 'cognitive', 'performance'], ['for', 'example', 'higher', 'depression', 'scores', 'have', 'been', 'correlated', 'with', 'lower', 'scores', 'on', 'the', 'mini', 'mental', 'state', 'exam', 'mmse', 'as', 'well', 'as', 'tests', 'of', 'memory', 'and', 'executive', 'functions', 'eg'], ['attention'], ['likewise', 'apathy', 'and', 'anhedonia', 'in', 'pd', 'patients', 'have', 'been', 'associated', 'with', 'executive', 'dysfunction'], ['however', 'few', 'studies', 'have', 'specifically', 'investigated', 'the', 'relationship', 'between', 'anxiety', 'and', 'cognition', 'in', 'pd'], ['one', 'study', 'showed', 'a', 'strong', 'negative', 'relationship', 'between', 'anxiety', 'both', 'state', 'and', 'trait', 'and', 'overall', 'cognitive', 'performance', 'measured', 'by', 'the', 'total', 'of', 'the', 'repeatable', 'battery', 'for', 'the', 'assessment', 'of', 'neuropsychological', 'status', 'index', 'within', 'a', 'sample', 'of', 'pd', 'patients'], ['furthermore', 'trait', 'anxiety', 'was', 'negatively', 'associated', 'with', 'each', 'of', 'the', 'cognitive', 'domains', 'assessed', 'by', 'the', 'rbans', 'ie']]\n"
          ]
        }
      ]
    },
    {
      "cell_type": "code",
      "source": [
        "# Combine tokenized sentences from both datasets\n",
        "all_sentences = test_data['tokenized_sentences'].explode().tolist() + validation_data['tokenized_sentences'].explode().tolist()\n",
        "\n",
        "# Filter out invalid entries\n",
        "all_sentences = [sentence for sentence in all_sentences if isinstance(sentence, list) and len(sentence) > 0]\n",
        "\n",
        "# Check the filtered sentences\n",
        "print(f\"Number of valid sentences: {len(all_sentences)}\")\n"
      ],
      "metadata": {
        "colab": {
          "base_uri": "https://localhost:8080/"
        },
        "id": "P_RSPc5qb35o",
        "outputId": "3f43bd45-8e5f-4005-f99d-8783138dc9e8"
      },
      "execution_count": 31,
      "outputs": [
        {
          "output_type": "stream",
          "name": "stdout",
          "text": [
            "Number of valid sentences: 1338515\n"
          ]
        }
      ]
    },
    {
      "cell_type": "code",
      "source": [
        "def preprocess_dataframe(df, text_column):\n",
        "    df['sentences'] = df[text_column].apply(lambda x: sent_tokenize(x) if isinstance(x, str) else [])\n",
        "    df['tokenized_sentences'] = df['sentences'].apply(lambda x: [preprocess_text(sent) for sent in x if isinstance(sent, str)])\n",
        "    return df\n"
      ],
      "metadata": {
        "id": "xHFj8gkWVe6-"
      },
      "execution_count": 32,
      "outputs": []
    },
    {
      "cell_type": "markdown",
      "source": [
        "### **Train Word2Vec Model**\n",
        "\n",
        "#### **Parameters**\n",
        "\n",
        "\n",
        "1. **`sentences=all_sentences`**\n",
        "   - **Description**: Input data for training the Word2Vec model. This parameter expects a list of tokenized sentences where each sentence is a list of words.\n",
        "  \n",
        "\n",
        "2. **`vector_size=100`**\n",
        "   - **Description**: Specifies the dimensionality of the word vectors (i.e., how many numbers represent each word in the vector space).\n",
        "   - **Impact**:\n",
        "     - A **larger vector size** can capture more semantic nuances but requires more memory and computation.\n",
        "     - A **smaller vector size** is computationally efficient but may miss some semantic details.\n",
        "   - **Typical Values**: 50, 100, 300.\n",
        "   - **In this case**: Each word is represented by a 100-dimensional vector.\n",
        "\n",
        "3. **`window=5`**\n",
        "   - **Description**: The maximum distance between the current word and its neighboring words to be considered in the context.\n",
        "\n",
        "\n",
        "4. **`min_count=2`**\n",
        "   - **Description**: Ignores all words with a total frequency lower than this value.\n",
        "\n",
        "\n",
        "5. **`workers=4`**\n",
        "   - **Description**: The number of CPU cores to use for parallel training.\n"
      ],
      "metadata": {
        "id": "VeykwmA_nhif"
      }
    },
    {
      "cell_type": "code",
      "source": [
        "# Train Word2Vec model\n",
        "model = Word2Vec(sentences=all_sentences, vector_size=100, window=5, min_count=2, workers=4)\n",
        "\n",
        "# Save the trained model\n",
        "model.save(\"drive/MyDrive/NLP/pubmed_word2vec_train.model\")\n"
      ],
      "metadata": {
        "id": "_ZeE9OMob_i2"
      },
      "execution_count": 33,
      "outputs": []
    },
    {
      "cell_type": "code",
      "source": [
        "print(f\"Vocabulary size: {len(model.wv.index_to_key)}\")  # Print the size of the vocabulary\n",
        "print(f\"Sample words: {model.wv.index_to_key[:10]}\")  # Preview some words in the vocabulary\n"
      ],
      "metadata": {
        "colab": {
          "base_uri": "https://localhost:8080/"
        },
        "id": "ry9yWbJYcIK9",
        "outputId": "0214ee5c-a482-4d75-ebc7-942e4355e176"
      },
      "execution_count": 34,
      "outputs": [
        {
          "output_type": "stream",
          "name": "stdout",
          "text": [
            "Vocabulary size: 135221\n",
            "Sample words: ['the', 'of', 'and', 'in', 'to', 'a', 'with', 'for', 'was', 'is']\n"
          ]
        }
      ]
    },
    {
      "cell_type": "code",
      "source": [
        "def summarize_text(text, model, top_n=5):\n",
        "    \"\"\"\n",
        "    Summarizes the given text by extracting the top_n most representative sentences.\n",
        "\n",
        "    Args:\n",
        "        text (str): The input text to summarize.\n",
        "        model (Word2Vec): A pre-trained Word2Vec model.\n",
        "        top_n (int): Number of sentences to include in the summary.\n",
        "\n",
        "    Returns:\n",
        "        list: A list of the top_n most representative sentences.\n",
        "    \"\"\"\n",
        "    sentences = sent_tokenize(text)\n",
        "    sentence_vectors = []\n",
        "\n",
        "    for sentence in sentences:\n",
        "        # Tokenize and filter words in the Word2Vec vocabulary\n",
        "        words = [word for word in word_tokenize(sentence.lower()) if word in model.wv]\n",
        "\n",
        "        # Skip sentences with no valid words\n",
        "        if not words:\n",
        "            continue\n",
        "\n",
        "        # Compute the sentence vector as the mean of word embeddings\n",
        "        vector = np.mean([model.wv[word] for word in words], axis=0)\n",
        "\n",
        "        # Skip invalid vectors (e.g., NaN values)\n",
        "        if np.isnan(vector).any():\n",
        "            continue\n",
        "\n",
        "        sentence_vectors.append((sentence, vector))\n",
        "\n",
        "    if not sentence_vectors:\n",
        "        return [\"No valid summary could be generated.\"]\n",
        "\n",
        "    # Compute the centroid vector\n",
        "    centroid = np.mean([vec for _, vec in sentence_vectors], axis=0)\n",
        "\n",
        "    # Rank sentences by their similarity to the centroid\n",
        "    ranked_sentences = sorted(sentence_vectors, key=lambda x: np.dot(x[1], centroid), reverse=True)\n",
        "\n",
        "    # Limit the number of sentences in the summary\n",
        "    return [sentence for sentence, _ in ranked_sentences[:top_n]]\n"
      ],
      "metadata": {
        "id": "VqakxLMbb_aA"
      },
      "execution_count": 37,
      "outputs": []
    },
    {
      "cell_type": "code",
      "source": [
        "# Step 1: Limit the dataset\n",
        "test_data_limited = test_data.head(10)  # Process the first 10 rows (or use sample for random rows)\n",
        "\n",
        "# Step 2: Initialize lists for storing results\n",
        "generated_summaries = []\n",
        "precision_scores = []\n",
        "recall_scores = []\n",
        "f1_scores = []\n",
        "\n",
        "# Step 3: Summarization and evaluation loop\n",
        "for i, row in test_data_limited.iterrows():\n",
        "    article_text = row['article']  # Input article text\n",
        "    reference_summary = row['abstract']  # Ground truth summary\n",
        "\n",
        "    # Generate a summary with a limit of 3 sentences\n",
        "    summary_sentences = summarize_text(article_text, model, top_n=3)\n",
        "    generated_summary = \" \".join(summary_sentences)\n",
        "    generated_summaries.append(generated_summary)\n",
        "\n",
        "    # Compute BERTScore\n",
        "    P, R, F1 = score([generated_summary], [reference_summary], lang=\"en\", verbose=False)\n",
        "    precision_scores.append(P.mean().item())\n",
        "    recall_scores.append(R.mean().item())\n",
        "    f1_scores.append(F1.mean().item())\n",
        "\n",
        "    # Print progress\n",
        "    print(f\"Processed {i+1}/{len(test_data_limited)} articles\")\n",
        "\n",
        "# Step 4: Add results to the limited DataFrame\n",
        "test_data_limited['generated_summary'] = generated_summaries\n",
        "test_data_limited['Precision'] = precision_scores\n",
        "test_data_limited['Recall'] = recall_scores\n",
        "test_data_limited['F1-Score'] = f1_scores\n",
        "\n",
        "# Step 5: Plot the metrics\n",
        "plt.figure(figsize=(12, 6))\n",
        "plt.plot(range(len(precision_scores)), precision_scores, marker='o', label='Precision', linestyle='-')\n",
        "plt.plot(range(len(recall_scores)), recall_scores, marker='x', label='Recall', linestyle='--')\n",
        "plt.plot(range(len(f1_scores)), f1_scores, marker='s', label='F1-Score', linestyle='-.')\n",
        "\n",
        "# Add labels and title\n",
        "plt.title('BERTScore Metrics Across Limited Summaries')\n",
        "plt.xlabel('Sample Index')\n",
        "plt.ylabel('BERTScore')\n",
        "plt.legend()\n",
        "plt.grid(True)\n",
        "plt.show()\n",
        "\n",
        "# Step 6: Save the limited results\n",
        "output_file_path = 'drive/MyDrive/NLP/project/data/limited_test_with_summaries_and_bertscore.csv'\n",
        "test_data_limited.to_csv(output_file_path, index=False)\n"
      ],
      "metadata": {
        "colab": {
          "base_uri": "https://localhost:8080/",
          "height": 1000
        },
        "id": "tlAdkwnzfd1c",
        "outputId": "c5c06f47-1f80-43aa-8baa-2e097daf88da"
      },
      "execution_count": 39,
      "outputs": [
        {
          "output_type": "stream",
          "name": "stderr",
          "text": [
            "Some weights of RobertaModel were not initialized from the model checkpoint at roberta-large and are newly initialized: ['roberta.pooler.dense.bias', 'roberta.pooler.dense.weight']\n",
            "You should probably TRAIN this model on a down-stream task to be able to use it for predictions and inference.\n"
          ]
        },
        {
          "output_type": "stream",
          "name": "stdout",
          "text": [
            "Processed 1/10 articles\n"
          ]
        },
        {
          "output_type": "stream",
          "name": "stderr",
          "text": [
            "Some weights of RobertaModel were not initialized from the model checkpoint at roberta-large and are newly initialized: ['roberta.pooler.dense.bias', 'roberta.pooler.dense.weight']\n",
            "You should probably TRAIN this model on a down-stream task to be able to use it for predictions and inference.\n"
          ]
        },
        {
          "output_type": "stream",
          "name": "stdout",
          "text": [
            "Processed 2/10 articles\n"
          ]
        },
        {
          "output_type": "stream",
          "name": "stderr",
          "text": [
            "Some weights of RobertaModel were not initialized from the model checkpoint at roberta-large and are newly initialized: ['roberta.pooler.dense.bias', 'roberta.pooler.dense.weight']\n",
            "You should probably TRAIN this model on a down-stream task to be able to use it for predictions and inference.\n"
          ]
        },
        {
          "output_type": "stream",
          "name": "stdout",
          "text": [
            "Processed 3/10 articles\n"
          ]
        },
        {
          "output_type": "stream",
          "name": "stderr",
          "text": [
            "Some weights of RobertaModel were not initialized from the model checkpoint at roberta-large and are newly initialized: ['roberta.pooler.dense.bias', 'roberta.pooler.dense.weight']\n",
            "You should probably TRAIN this model on a down-stream task to be able to use it for predictions and inference.\n"
          ]
        },
        {
          "output_type": "stream",
          "name": "stdout",
          "text": [
            "Processed 4/10 articles\n"
          ]
        },
        {
          "output_type": "stream",
          "name": "stderr",
          "text": [
            "Some weights of RobertaModel were not initialized from the model checkpoint at roberta-large and are newly initialized: ['roberta.pooler.dense.bias', 'roberta.pooler.dense.weight']\n",
            "You should probably TRAIN this model on a down-stream task to be able to use it for predictions and inference.\n"
          ]
        },
        {
          "output_type": "stream",
          "name": "stdout",
          "text": [
            "Processed 5/10 articles\n"
          ]
        },
        {
          "output_type": "stream",
          "name": "stderr",
          "text": [
            "Some weights of RobertaModel were not initialized from the model checkpoint at roberta-large and are newly initialized: ['roberta.pooler.dense.bias', 'roberta.pooler.dense.weight']\n",
            "You should probably TRAIN this model on a down-stream task to be able to use it for predictions and inference.\n"
          ]
        },
        {
          "output_type": "stream",
          "name": "stdout",
          "text": [
            "Processed 6/10 articles\n"
          ]
        },
        {
          "output_type": "stream",
          "name": "stderr",
          "text": [
            "Some weights of RobertaModel were not initialized from the model checkpoint at roberta-large and are newly initialized: ['roberta.pooler.dense.bias', 'roberta.pooler.dense.weight']\n",
            "You should probably TRAIN this model on a down-stream task to be able to use it for predictions and inference.\n"
          ]
        },
        {
          "output_type": "stream",
          "name": "stdout",
          "text": [
            "Processed 7/10 articles\n"
          ]
        },
        {
          "output_type": "stream",
          "name": "stderr",
          "text": [
            "Some weights of RobertaModel were not initialized from the model checkpoint at roberta-large and are newly initialized: ['roberta.pooler.dense.bias', 'roberta.pooler.dense.weight']\n",
            "You should probably TRAIN this model on a down-stream task to be able to use it for predictions and inference.\n"
          ]
        },
        {
          "output_type": "stream",
          "name": "stdout",
          "text": [
            "Processed 8/10 articles\n"
          ]
        },
        {
          "output_type": "stream",
          "name": "stderr",
          "text": [
            "Some weights of RobertaModel were not initialized from the model checkpoint at roberta-large and are newly initialized: ['roberta.pooler.dense.bias', 'roberta.pooler.dense.weight']\n",
            "You should probably TRAIN this model on a down-stream task to be able to use it for predictions and inference.\n"
          ]
        },
        {
          "output_type": "stream",
          "name": "stdout",
          "text": [
            "Processed 9/10 articles\n"
          ]
        },
        {
          "output_type": "stream",
          "name": "stderr",
          "text": [
            "Some weights of RobertaModel were not initialized from the model checkpoint at roberta-large and are newly initialized: ['roberta.pooler.dense.bias', 'roberta.pooler.dense.weight']\n",
            "You should probably TRAIN this model on a down-stream task to be able to use it for predictions and inference.\n"
          ]
        },
        {
          "output_type": "stream",
          "name": "stdout",
          "text": [
            "Processed 10/10 articles\n"
          ]
        },
        {
          "output_type": "stream",
          "name": "stderr",
          "text": [
            "<ipython-input-39-407dece39199>:30: SettingWithCopyWarning: \n",
            "A value is trying to be set on a copy of a slice from a DataFrame.\n",
            "Try using .loc[row_indexer,col_indexer] = value instead\n",
            "\n",
            "See the caveats in the documentation: https://pandas.pydata.org/pandas-docs/stable/user_guide/indexing.html#returning-a-view-versus-a-copy\n",
            "  test_data_limited['generated_summary'] = generated_summaries\n",
            "<ipython-input-39-407dece39199>:31: SettingWithCopyWarning: \n",
            "A value is trying to be set on a copy of a slice from a DataFrame.\n",
            "Try using .loc[row_indexer,col_indexer] = value instead\n",
            "\n",
            "See the caveats in the documentation: https://pandas.pydata.org/pandas-docs/stable/user_guide/indexing.html#returning-a-view-versus-a-copy\n",
            "  test_data_limited['Precision'] = precision_scores\n",
            "<ipython-input-39-407dece39199>:32: SettingWithCopyWarning: \n",
            "A value is trying to be set on a copy of a slice from a DataFrame.\n",
            "Try using .loc[row_indexer,col_indexer] = value instead\n",
            "\n",
            "See the caveats in the documentation: https://pandas.pydata.org/pandas-docs/stable/user_guide/indexing.html#returning-a-view-versus-a-copy\n",
            "  test_data_limited['Recall'] = recall_scores\n",
            "<ipython-input-39-407dece39199>:33: SettingWithCopyWarning: \n",
            "A value is trying to be set on a copy of a slice from a DataFrame.\n",
            "Try using .loc[row_indexer,col_indexer] = value instead\n",
            "\n",
            "See the caveats in the documentation: https://pandas.pydata.org/pandas-docs/stable/user_guide/indexing.html#returning-a-view-versus-a-copy\n",
            "  test_data_limited['F1-Score'] = f1_scores\n"
          ]
        },
        {
          "output_type": "display_data",
          "data": {
            "text/plain": [
              "<Figure size 1200x600 with 1 Axes>"
            ],
            "image/png": "[encoded data removed]"
          },
          "metadata": {}
        }
      ]
    },
    {
      "cell_type": "code",
      "source": [
        "test_data_limited = pd.read_csv(output_file_path)\n",
        "\n",
        "# Display the first few rows of the DataFrame to verify content\n",
        "test_data_limited.head()\n",
        "for index, row in test_data_limited.iterrows():\n",
        "    print(f\"\\n=== Article {index + 1} ===\")\n",
        "    print(f\"Generated Summary: {row['generated_summary']}\")\n",
        "    print(f\"Reference Summary: {row['abstract']}\")\n",
        "    print(f\"Precision: {row['Precision']:.4f}, Recall: {row['Recall']:.4f}, F1-Score: {row['F1-Score']:.4f}\")\n",
        "    print(\"=\" * 50)\n"
      ],
      "metadata": {
        "colab": {
          "base_uri": "https://localhost:8080/"
        },
        "id": "2d4uLr-ffdmH",
        "outputId": "108e257f-9c30-4abb-96f9-679a05d669e2"
      },
      "execution_count": 42,
      "outputs": [
        {
          "output_type": "stream",
          "name": "stdout",
          "text": [
            "\n",
            "=== Article 1 ===\n",
            "Generated Summary: , attention ) [ 1014 ] . anxiety affects quality of life in those living with parkinson 's disease ( pd ) more so than overall cognitive status , motor deficits , apathy , and depression [ 13 ] . , immediate memory , visuospatial construction , language , attention , and delayed memory ) .\n",
            "Reference Summary: research on the implications of anxiety in parkinson 's disease ( pd ) has been neglected despite its prevalence in nearly 50% of patients and its negative impact on quality of life . \n",
            " previous reports have noted that neuropsychiatric symptoms impair cognitive performance in pd patients ; however , to date , no study has directly compared pd patients with and without anxiety to examine the impact of anxiety on cognitive impairments in pd . \n",
            " this study compared cognitive performance across 50 pd participants with and without anxiety ( 17 pda+ ; 33 pda ) , who underwent neurological and neuropsychological assessment . \n",
            " group performance was compared across the following cognitive domains : simple attention / visuomotor processing speed , executive function ( e.g. , set - shifting ) , working memory , language , and memory / new verbal learning . \n",
            " results showed that pda+ performed significantly worse on the digit span forward and backward test and part b of the trail making task ( tmt - b ) compared to the pda group . \n",
            " there were no group differences in verbal fluency , logical memory , or tmt - a performance . in conclusion , \n",
            " anxiety in pd has a measurable impact on working memory and attentional set - shifting .\n",
            "Precision: 0.8548, Recall: 0.8102, F1-Score: 0.8319\n",
            "==================================================\n",
            "\n",
            "=== Article 2 ===\n",
            "Generated Summary: many distinct mirnas have been shown to regulate breast cancer cell proliferation , apoptosis , cancer stem cell expansion , and tumorigenesis . mir-221 and/or mir-222 expression in mcf-7 and t47d breast cancer cells decreased er expression associated with tamoxifen resistance . reviewed the mirna regulation of estrogen signaling pathway and erbb2/her signaling pathway in breast cancer .\n",
            "Reference Summary: small non - coding rnas include sirna , mirna , pirna and snorna . \n",
            " the involvement of mirnas in the regulation of mammary gland tumorigenesis has been widely studied while the role for other small non - coding rnas remains unclear . here \n",
            " we summarize the involvement of mirna in breast cancer onset and progression through regulating the cell cycle and cellular proliferation . \n",
            " the regulation of breast cancer stem cells and tumor regeneration by mirna is reviewed . \n",
            " in addition , the emerging evidence demonstrating the involvement of pirna and snorna in breast cancer is briefly described .\n",
            "Precision: 0.8520, Recall: 0.8540, F1-Score: 0.8530\n",
            "==================================================\n",
            "\n",
            "=== Article 3 ===\n",
            "Generated Summary: the placement of a pigtail catheter resulted in a safe and effective outpatient management of the majority of patients with severe ohss . all patients presented with shortness of breath , marked abdominal distension , nausea , weight gain and lower abdominal pain . patients with critical ohss and those with persistence of symptoms of severe ohss despite insertion of a pigtail catheter and drainage of ascitic fluid should be admitted to the hospital for inpatient management .\n",
            "Reference Summary: objective : to evaluate the efficacy and safety of outpatient management of severe ovarian hyperstimulation syndrome  ( ohss ) requiring placement of a pigtail catheter.methods : retrospective analysis of thirty - three consecutive patients who underwent in - vitro fertilization  ( 2003 - 2009 ) and developed severe / critical ohss requiring placement of a pigtail catheter . \n",
            " patients who were managed on outpatient basis were monitored by frequent office visits , daily phone calls , and received iv normal saline for hydration when required.results : in 3 patients  ( 9.1% ) ohss started early , requiring placement of a pigtail catheter 4.3 + 0.6 days after retrieval . in 30 patients  ( 90.9% ) \n",
            " ohss started late  ( 14  4 days after retrieval ) . \n",
            " the mean amount of ascitic fluid drained immediately after placement of the catheter was 2085  1018 cc . \n",
            " the pigtail catheter was removed after 7.8  5.3 days . \n",
            " of the 31 patients who had embryo transfer  ( two had total freeze ) , 84% conceived . \n",
            " twenty - nine patients  ( 88% ) were managed on outpatient basis without any complications . \n",
            " four patients required hospital admission for 1 - 7 days  ( 3.0  2.7 ) . \n",
            " one patient with severe ohss was admitted for work up for chest pain . \n",
            " three patients with critical ohss with severe pleural effusion requiring thoracentesis were admitted for supportive measures.conclusion : the placement of a pigtail catheter resulted in safe and effective outpatient management for the majority of patients with severe ohss .\n",
            "Precision: 0.8783, Recall: 0.8127, F1-Score: 0.8442\n",
            "==================================================\n",
            "\n",
            "=== Article 4 ===\n",
            "Generated Summary: 29 patients were included in the study of which 22 were females ( 76% ) and 7 were males ( 24% ) . obesity and hypertension were not found to be significantly higher in this cohort of cah patients . all the children were treated with hydrocortisone ; almost all adult patients were on dexamethasone .\n",
            "Reference Summary: congenital adrenal hyperplasia is a group of autosomal recessive disorders caused by enzyme deficiency which leads to defects in biosynthesis of steroid precursors . \n",
            " most common is 21 hydroxylase deficiency . \n",
            " clinical spectrum varies from non - classical cah to classic cah , and it may be simple virilising form or salt - wastinfg type . \n",
            " 29 patients were included in our study from january 2012 to october 2012 . \n",
            " 76% were females . \n",
            " male babies typically presented with adrenal crisis between 3rd to 6th week of life . around 20% of females \n",
            " were identified and appropriately treated only after late adolescence . \n",
            " short stature was seen in 1/3rd of patients . \n",
            " 1/3rd of patients had suppressed 17 ohp levels suggestive of over - replacement therapy which may contribute to final reduction in adult height .\n",
            "Precision: 0.8385, Recall: 0.7956, F1-Score: 0.8165\n",
            "==================================================\n",
            "\n",
            "=== Article 5 ===\n",
            "Generated Summary: however , the levels of glucose in diabetic mice were significantly reduced after treatment with ptx ( p<0.05 ) , for 21day , when compared to the values of diabetic control mice ( figure 1 ) . however , the levels of glucose in diabetic mice were significantly reduced after treatment with ptx ( p<0.05 ) , for 21day , when compared to the values of diabetic control mice ( figure 1 ) . mice were considered diabetic when their non - fasting blood glucose level was > 250 mg / dl ( 14 ) .\n",
            "Reference Summary: objective(s):pentoxifylline is an immunomodulatory and anti - inflammatory agent and is used in vascular disorders . \n",
            " it has been shown that pentoxifylline inhibits proinflammatory cytokines production . \n",
            " the purpose of this study was to investigate the therapeutic effects of pentoxifylline on the treatment of autoimmune diabetes in mice.materials and methods : diabetes was induced by multiple low dose of streptozotocin ( mlds ) injection ( 40 mg / kg / day for 5 consecutive days ) in male c57bl/6 mice . \n",
            " after induction of diabetes , mice were treated with pentoxifylline ( 100 mg / kg / day ip ) for 21 days . \n",
            " blood glucose levels and plasma levels of insulin were measured . \n",
            " splenocytes were tested for proliferation by mtt test and cytokine production by elisa.results:pentoxifylline treatment prevented hyperglycemia and increased plasma insulin levels in the diabetic mice . aside from reducing lymphocyte proliferation , pentoxifylline significantly inhibited the production of proinflammatory interleukin 17 ( il-17 ) as well as interferon gamma ( ifn- ) , while increased anti - inflammatory cytokine il-10 as compared with those in mlds group ( diabetic control group).conclusion : these findings indicate that pentoxifylline may have therapeutic effect against the autoimmune destruction of the pancreatic beta - cells during the development of mlds - induced type 1 diabetes in mice .\n",
            "Precision: 0.8371, Recall: 0.7903, F1-Score: 0.8130\n",
            "==================================================\n",
            "\n",
            "=== Article 6 ===\n",
            "Generated Summary: * chi - square test or mann - whitney test . * chi - square test or mann - whitney test . student 's t - test or mann - whitney test .\n",
            "Reference Summary: abstractobjective : to determine the presence of staphylococcal superantigen - specific ige antibodies and degree of ige - mediated sensitization , as well as whether or not those are associated with the severity of asthma in adult patients . \n",
            " methods : this was a cross - sectional study involving outpatients with asthma under treatment at a tertiary care university hospital in the city of rio de janeiro , brazil . \n",
            " consecutive patients were divided into two groups according to the severity of asthma based on the global initiative for asthma criteria : mild asthma ( ma ) , comprising patients with mild intermittent or persistent asthma ; and moderate or severe asthma ( msa ) . \n",
            " we determined the serum levels of staphylococcal toxin - specific ige antibodies , comparing the results and performing a statistical analysis . \n",
            " results : the study included 142 patients : 72 in the ma group ( median age = 46 years ; 59 females ) and 70 in the msa group ( median age = 56 years ; 60 females ) . in the sample as a whole , 62 patients ( 43.7% ) presented positive results for staphylococcal toxin - specific ige antibodies : staphylococcal enterotoxin a ( sea ) , in 29 ( 20.4% ) ; seb , in 35 ( 24.6% ) ; sec , in 33 ( 23.2% ) ; and toxic shock syndrome toxin ( tsst ) , in 45 ( 31.7% ) . \n",
            " the mean serum levels of ige antibodies to sea , seb , sec , and tsst were 0.96 u / l , 1.09 u / l , 1.21 u / l , and 1.18 u / l , respectively . \n",
            " there were no statistically significant differences between the two groups in terms of the qualitative or quantitative results . \n",
            " conclusions : serum ige antibodies to sea , seb , sec , and tsst were detected in 43.7% of the patients in our sample . \n",
            " however , neither the qualitative nor quantitative results showed a statistically significant association with the clinical severity of asthma .\n",
            "Precision: 0.7721, Recall: 0.7368, F1-Score: 0.7541\n",
            "==================================================\n",
            "\n",
            "=== Article 7 ===\n",
            "Generated Summary: the icu nurses must also accept their role in the care of patient s family members . johnson questionnaire for the satisfaction of the family of icu patients was used to measure the family satisfaction . indicated that effective communication of the staff with the families of icu patients would increase their satisfaction .\n",
            "Reference Summary: background : since the family is a social system , the impairment in each of its component members may disrupt the entire family system . \n",
            " one of the stress sources for families is accidents leading to hospitalization particularly in the intensive care unit ( icu ) . in many cases , \n",
            " the families needs in patient care are not met that cause dissatisfaction . since the nurses spend a lot of time with patients and their families , they are in a good position to assess their needs and perform appropriate interventions . \n",
            " therefore , this study was conducted to determine the effectiveness of nursing interventions based on family needs on family satisfaction level of hospitalized patients in the neurosurgery icu.materials and methods : this clinical trial was conducted in the neurosurgery icu of al - zahra hospital , isfahan , iran in 2010 . \n",
            " sixty four families were selected by simple sampling method and were randomly placed in two groups ( test and control ) using envelopes . in the test group , \n",
            " some interventions were performed to meet their needs . in the control group , \n",
            " the routine actions were only carried out . \n",
            " the satisfaction questionnaire was completed by both groups two days after admission and again on the fourth day.findings:both of the intervention and control groups were compared in terms of the mean satisfaction scores before and after intervention . \n",
            " there was no significant difference in mean satisfaction scores between test and control groups before the intervention . \n",
            " the mean satisfaction score significantly increased after the intervention compared to the control group.conclusions:nursing interventions based on family needs of hospitalized patients in the icu increase their satisfaction . \n",
            " attention to family nursing should be planned especially in the icus .\n",
            "Precision: 0.8732, Recall: 0.8009, F1-Score: 0.8355\n",
            "==================================================\n",
            "\n",
            "=== Article 8 ===\n",
            "Generated Summary: in health professionals , \n",
            " communication and communication skills play a very important role in satisfaction of patients and solving their problems . the outcome of depression in patients with cardiovascular disease is deterioration of physical and emotional state . the health personnel don not have adequate communication skills .\n",
            "Reference Summary: background and objective :   anxiety and depression are among the psychological disorders in heart \n",
            " surgeries . establishing a simple communication is essential to reduce anxiety and depression . \n",
            " hence , the objective of the present studywas to examine the impact of peplau therapeutic communication model on anxiety and depression in patients , who were candidate for coronary artery bypass in al - zahra heart hospital , shiraz during 2012 - 2013 . \n",
            " methods :   this is a clinical trial in which 74 patients were randomly divided into intervention and control groups , each consisted of 37 patients . anxiety and depression levels were assessed before , and two and four months after intervention using the hospital anxiety and depression scale ( hads ) . \n",
            " seven therapeutic communication sessions were held in four stages . \n",
            " data were analyzed with the spss ( version 16 ) using analysis of covariance . \n",
            " results :   the mean anxiety and depression levels decreased in the intervention group after the therapeutic communication ( p<0.01 ) . \n",
            " anxiety scores in the intervention group before and after intervention were 10.23 and 9.38 , respectively . while the corresponding scores in the control group were 10.26 and 11.62 , respectively . \n",
            " depression scores in the intervention group before and after intervention were 11 and 9.13 , respectively . \n",
            " the corresponding scores in the control group were 11.30 and 12.08 , respectively . \n",
            " conclusion :   the results demonstrated the positive role of therapeutic communication in reducing anxiety and depression of the patients . \n",
            " therefore , the therapeutic communication is recommended as a simple , cost effective and efficient method in this area .\n",
            "Precision: 0.8484, Recall: 0.7831, F1-Score: 0.8145\n",
            "==================================================\n",
            "\n",
            "=== Article 9 ===\n",
            "Generated Summary: magenta , residues 226 and 227 ; orange , residue 189 ; green , residues 155 and 156 ; yellow , residue 145 . magenta , residues 226 and 227 ; orange , residue 189 ; green , residues 155 and 156 ; yellow , residue 145 . consensus sequence derived from a multiple sequence protein alignment of 26 ha1 hemagglutinin sequences from nepal .\n",
            "Reference Summary: worldwide emergence of variant viruses has prompted a change in the 20052006 h3n2 influenza a vaccine strain .\n",
            "Precision: 0.7585, Recall: 0.8188, F1-Score: 0.7875\n",
            "==================================================\n",
            "\n",
            "=== Article 10 ===\n",
            "Generated Summary: obese women in all three countries have elevated risk and the very obese have even higher risk ( table 5(b ) ) . men with normal bmi and high waist have a greater likelihood than men with normal bmi and normal waist size of having high - risk levels of triglycerides in all three countries . these differences may affect how obesity is related to other risk factors for poor health , and it may determine the overall health risk associated with obesity .\n",
            "Reference Summary: excess weight has generally been associated with adverse health outcomes ; however , the link between overweight and health outcomes may vary with socioeconomic , cultural , and epidemiological conditions . \n",
            " we examine associations of weight with indicators of biological risk in three nationally representative populations : the us national health and nutrition examination survey , the english longitudinal study of ageing , and the social environment and biomarkers of aging study in taiwan . \n",
            " indicators of biological risk were compared for obese ( defined using body mass index ( bmi ) and waist circumference ) and normal weight individuals aged 54 + . generally , obesity in england \n",
            " was associated with elevated risk for more markers examined ; obese americans also had elevated risks except that they did not have elevated blood pressure ( bp ) . including waist circumference in our consideration of bmi indicated different links between obesity and waist size across countries ; we found higher physiological dysregulation among those with high waist but normal bmi compared to those with normal waist and normal bmi . \n",
            " americans had the highest levels of biological risk in all weight / waist groups . \n",
            " cross - country variation in biological risk associated with obesity may reflect differences in health behaviors , lifestyle , medication use , and culture .\n",
            "Precision: 0.8682, Recall: 0.8280, F1-Score: 0.8476\n",
            "==================================================\n"
          ]
        }
      ]
    }
  ]
}